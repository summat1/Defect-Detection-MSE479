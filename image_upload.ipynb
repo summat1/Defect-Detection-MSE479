{
 "cells": [
  {
   "cell_type": "code",
   "execution_count": 6,
   "metadata": {},
   "outputs": [],
   "source": [
    "import os\n",
    "from util import labeledImage\n",
    "from azureapi import AzureCVObjectDetectionAPI\n",
    "from sklearn.model_selection import train_test_split"
   ]
  },
  {
   "cell_type": "code",
   "execution_count": 11,
   "metadata": {},
   "outputs": [],
   "source": [
    "# collate labels #\n",
    "img_dir = './data/mos2/'\n",
    "labels_dir = './data/labels/'\n",
    "\n",
    "labeled_images = []\n",
    "tag = 'molecule'\n",
    "\n",
    "# filter img fns to get only 22-28.png #\n",
    "all_img_fns = os.listdir(img_dir)\n",
    "img_fns = [fn for fn in all_img_fns if int(fn.split('.')[0]) in list(range(1,22))]\n",
    "\n",
    "for file in img_fns:\n",
    "    if file.endswith(\".png\"):\n",
    "        image_path = os.path.join(img_dir, file)\n",
    "        label_path = os.path.join(labels_dir, file.split('.')[0] + '.txt')\n",
    "        labeled_images.append(labeledImage(image_path))\n",
    "        labeled_images[-1].add_labels_from_file(tag, label_path)"
   ]
  },
  {
   "cell_type": "code",
   "execution_count": 12,
   "metadata": {},
   "outputs": [
    {
     "name": "stdout",
     "output_type": "stream",
     "text": [
      "Labeled image 1.png\n",
      "    location: ./data/mos2/1.png\n",
      "    shape: (1024, 1024, 3)\n",
      "    labels:\n",
      "    - molecule: \n",
      "      [379, 513, 81, 72]\n",
      "      [780, 84, 80, 47]\n",
      "      [175, 153, 45, 30]\n",
      "      [455, 132, 42, 36]\n",
      "      [449, 165, 36, 38]\n",
      "      [383, 356, 46, 44]\n",
      "      [136, 616, 44, 32]\n",
      "      [151, 580, 34, 28]\n",
      "      [691, 707, 41, 65]\n",
      "      [733, 693, 68, 52]\n",
      "      [740, 904, 55, 65]\n",
      "      [601, 819, 59, 40]\n",
      "      [335, 743, 50, 37]\n",
      "      [565, 687, 103, 42]\n",
      "      [729, 493, 80, 34]\n",
      "      [995, 125, 29, 74]\n",
      "      [243, 445, 66, 67]\n",
      "      [596, 404, 59, 45]\n",
      "      [583, 441, 69, 51]\n",
      "      [728, 425, 65, 47]\n",
      "\n"
     ]
    }
   ],
   "source": [
    "print(labeled_images[0])"
   ]
  },
  {
   "cell_type": "code",
   "execution_count": 13,
   "metadata": {},
   "outputs": [],
   "source": [
    "# split images into train and test sets #\n",
    "train_images, test_images = train_test_split(labeled_images, test_size=0.2, random_state=42)"
   ]
  },
  {
   "cell_type": "code",
   "execution_count": 14,
   "metadata": {},
   "outputs": [
    {
     "name": "stdout",
     "output_type": "stream",
     "text": [
      "Adding images...\n",
      "Adding images: batch  1\n",
      "Image batch upload failed.\n",
      "Image status:  OKDuplicate\n",
      "Image status:  OKDuplicate\n",
      "Image status:  OKDuplicate\n",
      "Image status:  OK\n",
      "Image status:  OK\n",
      "Image status:  OKDuplicate\n",
      "Image status:  OKDuplicate\n",
      "Image status:  OKDuplicate\n",
      "Image status:  OKDuplicate\n",
      "Image status:  OKDuplicate\n",
      "Image status:  OK\n",
      "Image status:  OK\n",
      "Image status:  OK\n",
      "Image status:  OK\n",
      "Image status:  OKDuplicate\n",
      "Image status:  OKDuplicate\n"
     ]
    }
   ],
   "source": [
    "# create AzureAPI object and upload images #\n",
    "Endpoint    = 'https://southcentralus.api.cognitive.microsoft.com/'\n",
    "Key         = 'dc7af5f887c84f90a51d25549c7ad863'\n",
    "Resource_Id = '/subscriptions/cbcd0d6a-0ae5-48a7-a46d-4a4f3c692c71/resourceGroups/rg-amlclass-longnic/providers/Microsoft.CognitiveServices/accounts/cv_longnic'\n",
    "Project_Id  = '5ce9e36e-942f-45c5-a102-837662335aa6'\n",
    "\n",
    "ACVObjectDetector = AzureCVObjectDetectionAPI(Endpoint, Key, Resource_Id, Project_Id)\n",
    "ACVObjectDetector.upload_training_images(train_images)"
   ]
  }
 ],
 "metadata": {
  "kernelspec": {
   "display_name": "Python 3",
   "language": "python",
   "name": "python3"
  },
  "language_info": {
   "codemirror_mode": {
    "name": "ipython",
    "version": 3
   },
   "file_extension": ".py",
   "mimetype": "text/x-python",
   "name": "python",
   "nbconvert_exporter": "python",
   "pygments_lexer": "ipython3",
   "version": "3.10.14"
  }
 },
 "nbformat": 4,
 "nbformat_minor": 2
}
