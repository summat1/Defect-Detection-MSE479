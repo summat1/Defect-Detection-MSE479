{
 "cells": [
  {
   "cell_type": "code",
   "execution_count": 7,
   "metadata": {},
   "outputs": [],
   "source": [
    "import os\n",
    "from util import labeledImage\n",
    "from azureapi import AzureCVObjectDetectionAPI\n",
    "from sklearn.model_selection import train_test_split"
   ]
  },
  {
   "cell_type": "code",
   "execution_count": 38,
   "metadata": {},
   "outputs": [],
   "source": [
    "# collate labels #\n",
    "img_dir = './data/mos2/'\n",
    "labels_dir = './data/labels/'\n",
    "\n",
    "labeled_images = []\n",
    "tag = 'molecule'\n",
    "\n",
    "# filter img fns to get only 22-28.png #\n",
    "all_img_fns = os.listdir(img_dir)\n",
    "img_fns = [fn for fn in all_img_fns if int(fn.split('.')[0]) in list(range(1,29))]\n",
    "\n",
    "for file in img_fns:\n",
    "    if file.endswith(\".png\"):\n",
    "        image_path = os.path.join(img_dir, file)\n",
    "        label_path = os.path.join(labels_dir, file.split('.')[0] + '.txt')\n",
    "        labeled_images.append(labeledImage(image_path))\n",
    "        labeled_images[-1].add_labels_from_file(tag, label_path)"
   ]
  },
  {
   "cell_type": "code",
   "execution_count": 37,
   "metadata": {},
   "outputs": [
    {
     "name": "stdout",
     "output_type": "stream",
     "text": [
      "Labeled image 28.png\n",
      "    location: ./data/mos2/28.png\n",
      "    shape: (386, 337, 3)\n",
      "    labels:\n",
      "    - molecule: \n",
      "      [127, 73, 55, 61]\n",
      "      [250, 142, 30, 30]\n",
      "      [127, 178, 35, 29]\n",
      "      [40, 113, 56, 46]\n",
      "      [0, 176, 13, 24]\n",
      "      [7, 0, 36, 18]\n",
      "      [286, 8, 51, 47]\n",
      "      [227, 319, 77, 67]\n",
      "      [325, 359, 12, 27]\n",
      "\n"
     ]
    }
   ],
   "source": [
    "print(labeled_images[0])"
   ]
  },
  {
   "cell_type": "code",
   "execution_count": 14,
   "metadata": {},
   "outputs": [
    {
     "name": "stdout",
     "output_type": "stream",
     "text": [
      "Training Images: [14, 2, 12, 7, 5, 21, 11, 18, 9, 13, 20, 16, 19, 3, 8, 15]\n",
      "Testing Images: [1, 6, 4, 10, 17]\n"
     ]
    }
   ],
   "source": [
    "# split images into train and test sets #\n",
    "train_images, test_images = train_test_split(labeled_images, test_size=0.2, random_state=42)\n",
    "\n",
    "train_image_numbers = [int(img.name.split('.')[0]) for img in train_images]\n",
    "test_image_numbers = [int(img.name.split('.')[0]) for img in test_images]\n",
    "print(f'Training Images: {train_image_numbers}')\n",
    "print(f'Testing Images: {test_image_numbers}')"
   ]
  },
  {
   "cell_type": "code",
   "execution_count": 15,
   "metadata": {},
   "outputs": [
    {
     "name": "stdout",
     "output_type": "stream",
     "text": [
      "Adding images...\n",
      "Adding images: batch  1\n",
      "Image batch upload failed.\n",
      "Image status:  OKDuplicate\n",
      "Image status:  OKDuplicate\n",
      "Image status:  OKDuplicate\n",
      "Image status:  OKDuplicate\n",
      "Image status:  OKDuplicate\n",
      "Image status:  OKDuplicate\n",
      "Image status:  OKDuplicate\n",
      "Image status:  OKDuplicate\n",
      "Image status:  OKDuplicate\n",
      "Image status:  OKDuplicate\n",
      "Image status:  OKDuplicate\n",
      "Image status:  OKDuplicate\n",
      "Image status:  OKDuplicate\n",
      "Image status:  OKDuplicate\n",
      "Image status:  OKDuplicate\n",
      "Image status:  OKDuplicate\n"
     ]
    }
   ],
   "source": [
    "# create AzureAPI object and upload images #\n",
    "Endpoint    = 'https://southcentralus.api.cognitive.microsoft.com/'\n",
    "Key         = 'dc7af5f887c84f90a51d25549c7ad863'\n",
    "Resource_Id = '/subscriptions/cbcd0d6a-0ae5-48a7-a46d-4a4f3c692c71/resourceGroups/rg-amlclass-longnic/providers/Microsoft.CognitiveServices/accounts/cv_longnic'\n",
    "Project_Id  = '5ce9e36e-942f-45c5-a102-837662335aa6'\n",
    "\n",
    "ACVObjectDetector = AzureCVObjectDetectionAPI(Endpoint, Key, Resource_Id, Project_Id)\n",
    "ACVObjectDetector.upload_training_images(train_images)"
   ]
  }
 ],
 "metadata": {
  "kernelspec": {
   "display_name": "Python 3",
   "language": "python",
   "name": "python3"
  },
  "language_info": {
   "codemirror_mode": {
    "name": "ipython",
    "version": 3
   },
   "file_extension": ".py",
   "mimetype": "text/x-python",
   "name": "python",
   "nbconvert_exporter": "python",
   "pygments_lexer": "ipython3",
   "version": "3.10.14"
  }
 },
 "nbformat": 4,
 "nbformat_minor": 2
}
