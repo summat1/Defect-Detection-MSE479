{
 "cells": [
  {
   "cell_type": "code",
   "execution_count": 1,
   "metadata": {},
   "outputs": [],
   "source": [
    "import os\n",
    "from util import labeledImage\n",
    "from azureapi import AzureCVObjectDetectionAPI\n",
    "from sklearn.model_selection import train_test_split"
   ]
  },
  {
   "cell_type": "code",
   "execution_count": 2,
   "metadata": {},
   "outputs": [],
   "source": [
    "# collate labels #\n",
    "img_dir = './data/mos2/'\n",
    "labels_dir = './data/labels/'\n",
    "\n",
    "labeled_images = []\n",
    "tag = 'molecule'\n",
    "\n",
    "# filter img fns to get only 22-28.png #\n",
    "all_img_fns = os.listdir(img_dir)\n",
    "img_fns = [fn for fn in all_img_fns if int(fn.split('.')[0]) in list(range(22,29))]\n",
    "\n",
    "for file in img_fns:\n",
    "    if file.endswith(\".png\"):\n",
    "        image_path = os.path.join(img_dir, file)\n",
    "        label_path = os.path.join(labels_dir, file.split('.')[0] + '.txt')\n",
    "        labeled_images.append(labeledImage(image_path))\n",
    "        labeled_images[-1].add_labels_from_file(tag, label_path)"
   ]
  },
  {
   "cell_type": "code",
   "execution_count": 3,
   "metadata": {},
   "outputs": [
    {
     "name": "stdout",
     "output_type": "stream",
     "text": [
      "Labeled image 22.png\n",
      "    location: ./data/mos2/22.png\n",
      "    shape: (1024, 1024, 3)\n",
      "    labels:\n",
      "    - molecule: \n",
      "      [376, 68, 125, 125]\n",
      "      [620, 148, 116, 120]\n",
      "      [532, 377, 135, 116]\n",
      "      [81, 483, 147, 120]\n",
      "      [181, 915, 82, 74]\n",
      "      [327, 889, 238, 135]\n",
      "      [664, 647, 75, 66]\n",
      "      [0, 0, 213, 88]\n",
      "      [76, 989, 95, 35]\n",
      "      [956, 444, 68, 121]\n",
      "      [945, 633, 79, 124]\n",
      "      [965, 873, 59, 112]\n",
      "      [695, 560, 74, 88]\n",
      "\n"
     ]
    }
   ],
   "source": [
    "print(labeled_images[0])"
   ]
  },
  {
   "cell_type": "code",
   "execution_count": 4,
   "metadata": {},
   "outputs": [],
   "source": [
    "# split images into train and test sets #\n",
    "train_images, test_images = train_test_split(labeled_images, test_size=0.2, random_state=42)"
   ]
  },
  {
   "cell_type": "code",
   "execution_count": 7,
   "metadata": {},
   "outputs": [
    {
     "name": "stdout",
     "output_type": "stream",
     "text": [
      "Adding images...\n",
      "Adding images: batch  1\n",
      "Image batch upload failed.\n",
      "Image status:  OKDuplicate\n",
      "Image status:  OKDuplicate\n",
      "Image status:  OKDuplicate\n",
      "Image status:  OKDuplicate\n",
      "Image status:  OKDuplicate\n"
     ]
    }
   ],
   "source": [
    "# create AzureAPI object and upload images #\n",
    "Endpoint    = 'https://southcentralus.api.cognitive.microsoft.com/'\n",
    "Key         = 'dc7af5f887c84f90a51d25549c7ad863'\n",
    "Resource_Id = '/subscriptions/cbcd0d6a-0ae5-48a7-a46d-4a4f3c692c71/resourceGroups/rg-amlclass-longnic/providers/Microsoft.CognitiveServices/accounts/cv_longnic'\n",
    "Project_Id  = '5ce9e36e-942f-45c5-a102-837662335aa6'\n",
    "\n",
    "ACVObjectDetector = AzureCVObjectDetectionAPI(Endpoint, Key, Resource_Id, Project_Id)\n",
    "ACVObjectDetector.upload_training_images(train_images)"
   ]
  }
 ],
 "metadata": {
  "kernelspec": {
   "display_name": "Python 3",
   "language": "python",
   "name": "python3"
  },
  "language_info": {
   "codemirror_mode": {
    "name": "ipython",
    "version": 3
   },
   "file_extension": ".py",
   "mimetype": "text/x-python",
   "name": "python",
   "nbconvert_exporter": "python",
   "pygments_lexer": "ipython3",
   "version": "3.10.14"
  }
 },
 "nbformat": 4,
 "nbformat_minor": 2
}
